{
 "cells": [
  {
   "cell_type": "markdown",
   "metadata": {},
   "source": [
    "# Aplicación GraphQL con FastAPI y Strawberry usando Poetry y Docker\n",
    "\n",
    "Este tutorial te guiará a través de la creación de una aplicación GraphQL en Python utilizando FastAPI y Strawberry, gestionando las dependencias con Poetry y, **novedad**, ejecutándola dentro de un contenedor Docker. Esto asegura un entorno consistente y reproducible para tu API de Machine Learning Ops."
   ]
  },
  {
   "cell_type": "markdown",
   "metadata": {},
   "source": [
    "### Objetivo\n",
    "\n",
    "Aprenderás a:\n",
    "* Configurar un proyecto Python con **Poetry**.\n",
    "* Implementar una API GraphQL con **FastAPI** y **Strawberry**.\n",
    "* **Contenerizar tu aplicación con Docker** para un despliegue y desarrollo consistentes.\n",
    "* Interactuar con tu API GraphQL."
   ]
  },
  {
   "cell_type": "markdown",
   "metadata": {},
   "source": [
    "## 1. Configuración del Proyecto con Poetry\n",
    "\n",
    "**Poetry** es una herramienta moderna para la gestión de dependencias y entornos Python. Nos ayudará a preparar nuestro proyecto de manera robusta para Docker."
   ]
  },
  {
   "cell_type": "markdown",
   "metadata": {},
   "source": [
    "### Instala Poetry (si no lo tienes):\n",
    "Si aún no tienes Poetry instalado, la forma recomendada es a través de su instalador oficial:\n",
    "\n",
    "* **En macOS / Linux / WSL (Windows Subsystem for Linux):**\n",
    "  Abre tu terminal y ejecuta:"
   ]
  },
  {
   "cell_type": "code",
   "execution_count": null,
   "metadata": {},
   "outputs": [],
   "source": [
    "# !curl -sSL https://install.python-poetry.org | python3 -"
   ]
  },
  {
   "cell_type": "markdown",
   "metadata": {},
   "source": [
    "* **En Windows (PowerShell):**\n",
    "  Abre PowerShell y ejecuta:"
   ]
  },
  {
   "cell_type": "code",
   "execution_count": null,
   "metadata": {},
   "outputs": [],
   "source": [
    "# (Invoke-WebRequest -Uri https://install.python-poetry.org -UseBasicParsing).Content | python -"
   ]
  },
  {
   "cell_type": "markdown",
   "metadata": {},
   "source": [
    "Verifica la instalación:"
   ]
  },
  {
   "cell_type": "code",
   "execution_count": null,
   "metadata": {},
   "outputs": [],
   "source": [
    "!poetry --version"
   ]
  },
  {
   "cell_type": "markdown",
   "metadata": {},
   "source": [
    "### Crea un nuevo proyecto con Poetry:\n",
    "Abre tu terminal y ejecuta:"
   ]
  },
  {
   "cell_type": "code",
   "execution_count": null,
   "metadata": {},
   "outputs": [],
   "source": [
    "# Crea el directorio del proyecto y navega hacia él\n",
    "!mkdir python-graphql-docker-tutorial\n",
    "%cd python-graphql-docker-tutorial\n",
    "\n",
    "# Inicializa el proyecto Poetry (crea pyproject.toml)\n",
    "!poetry init --no-interaction # --no-interaction para no pedir confirmaciones en notebook"
   ]
  },
  {
   "cell_type": "markdown",
   "metadata": {},
   "source": [
    "### Añade las dependencias:\n",
    "Añade las librerías necesarias. **Importante:** Asegúrate de que el rango de Python en tu `pyproject.toml` sea `python = \">=3.11,<4.0\"` para evitar conflictos de resolución con `strawberry-graphql`."
   ]
  },
  {
   "cell_type": "code",
   "execution_count": null,
   "metadata": {},
   "outputs": [],
   "source": [
    "# Primero, ajusta tu pyproject.toml manualmente si es necesario:\n",
    "# Abre el archivo pyproject.toml en tu editor y asegúrate de que tenga:\n",
    "# [tool.poetry.dependencies]\n",
    "# python = \">=3.11,<4.0\"\n",
    "\n",
    "!poetry add fastapi uvicorn strawberry-graphql requests"
   ]
  },
  {
   "cell_type": "markdown",
   "metadata": {},
   "source": [
    "### Crea el archivo `app.py`:\n",
    "Este será el código de nuestra API GraphQL. Crea el archivo `app.py` en la raíz de tu proyecto."
   ]
  },
  {
   "cell_type": "code",
   "execution_count": null,
   "metadata": {},
   "outputs": [],
   "source": [
    "%%writefile app.py\n",
    "import strawberry\n",
    "from fastapi import FastAPI\n",
    "from typing import List, Optional\n",
    "\n",
    "# --- Datos simulados en memoria ---\n",
    "class BookData:\n",
    "    def __init__(self, id: str, title: str, author: str, year: Optional[int] = None):\n",
    "        self.id = id\n",
    "        self.title = title\n",
    "        self.author = author\n",
    "        self.year = year\n",
    "\n",
    "mock_books = [\n",
    "    BookData(\"b1\", \"El principito\", \"Antoine de Saint-Exupéry\", 1943),\n",
    "    BookData(\"b2\", \"Cien años de soledad\", \"Gabriel García Márquez\", 1967),\n",
    "    BookData(\"b3\", \"1984\", \"George Orwell\", 1949),\n",
    "]\n",
    "next_book_id = len(mock_books) + 1\n",
    "\n",
    "# --- Definición del Esquema GraphQL ---\n",
    "@strawberry.type\n",
    "class Book:\n",
    "    id: str\n",
    "    title: str\n",
    "    author: str\n",
    "    year: Optional[int] = None\n",
    "\n",
    "@strawberry.type\n",
    "class Query:\n",
    "    @strawberry.field\n",
    "    def hello(self) -> str:\n",
    "        return \"¡Hola desde tu API GraphQL en Docker!\"\n",
    "\n",
    "    @strawberry.field\n",
    "    def books(self) -> List[Book]:\n",
    "        return mock_books\n",
    "\n",
    "    @strawberry.field\n",
    "    def book(self, id: str) -> Optional[Book]:\n",
    "        for book in mock_books:\n",
    "            if book.id == id:\n",
    "                return book\n",
    "        return None\n",
    "\n",
    "@strawberry.input\n",
    "class CreateBookInput:\n",
    "    title: str\n",
    "    author: str\n",
    "    year: Optional[int] = None\n",
    "\n",
    "@strawberry.type\n",
    "class Mutation:\n",
    "    @strawberry.mutation\n",
    "    def create_book(self, data: CreateBookInput) -> Book:\n",
    "        global next_book_id\n",
    "        new_id = f\"b{next_book_id}\"\n",
    "        next_book_id += 1\n",
    "        new_book = BookData(new_id, data.title, data.author, data.year)\n",
    "        mock_books.append(new_book)\n",
    "        return new_book\n",
    "\n",
    "    @strawberry.mutation\n",
    "    def delete_book(self, id: str) -> Optional[Book]:\n",
    "        global mock_books\n",
    "        original_len = len(mock_books)\n",
    "        mock_books = [book for book in mock_books if book.id != id]\n",
    "        if len(mock_books) < original_len:\n",
    "            return BookData(id, \"Eliminado\", \"N/A\") \n",
    "        return None\n",
    "\n",
    "schema = strawberry.Schema(query=Query, mutation=Mutation)\n",
    "\n",
    "# 6. Integrar GraphQL con FastAPI\n",
    "app = FastAPI(\n",
    "    title=\"Mi API GraphQL de Libros\",\n",
    "    description=\"Una API GraphQL de ejemplo en Docker.\",\n",
    "    version=\"1.0.0\",\n",
    ")\n",
    "\n",
    "app.add_route(\"/graphql\", strawberry.asgi.GraphQL(schema), name=\"graphql\")\n",
    "\n",
    "@app.get(\"/status\")\n",
    "async def get_status() -> dict:\n",
    "    return {\"status\": \"running\", \"api_type\": \"GraphQL & REST (Hybrid)\"}\n"
   ]
  },
  {
   "cell_type": "markdown",
   "metadata": {},
   "source": [
    "### Crea el archivo `Dockerfile`:\n",
    "Este archivo contiene las instrucciones para construir tu imagen Docker. Crea el archivo `Dockerfile` en la raíz de tu proyecto (junto a `app.py` y `pyproject.toml`)."
   ]
  },
  {
   "cell_type": "code",
   "execution_count": null,
   "metadata": {},
   "outputs": [],
   "source": [
    "%%writefile Dockerfile\n",
    "# Usa una imagen base de Python oficial\n",
    "FROM python:3.11-slim-bookworm\n",
    "\n",
    "# Establece el directorio de trabajo dentro del contenedor\n",
    "WORKDIR /app\n",
    "\n",
    "# Instala Poetry\n",
    "RUN pip install poetry\n",
    "\n",
    "# Copia los archivos de configuración de Poetry\n",
    "COPY pyproject.toml poetry.lock* ./\n",
    "\n",
    "# Instala las dependencias de producción usando Poetry\n",
    "RUN poetry install --no-root --no-dev --no-interaction\n",
    "\n",
    "# Copia el código de tu aplicación\n",
    "COPY app.py ./\n",
    "\n",
    "# Expone el puerto que usará Uvicorn\n",
    "EXPOSE 8000\n",
    "\n",
    "# Comando para ejecutar la aplicación con Uvicorn\n",
    "# 'poetry run' asegura que uvicorn se ejecute dentro del entorno virtual gestionado por Poetry\n",
    "CMD [\"poetry\", \"run\", \"uvicorn\", \"app:app\", \"--host\", \"0.0.0.0\", \"--port\", \"8000\"]"
   ]
  },
  {
   "cell_type": "markdown",
   "metadata": {},
   "source": [
    "## 2. Construyendo y Ejecutando el Servidor Docker\n",
    "\n",
    "Ahora construiremos la imagen Docker de tu aplicación y la ejecutaremos como un contenedor."
   ]
  },
  {
   "cell_type": "markdown",
   "metadata": {},
   "source": [
    "### Construye la imagen Docker:\n",
    "Abre tu terminal en el directorio raíz de tu proyecto (`python-graphql-docker-tutorial`) y ejecuta:"
   ]
  },
  {
   "cell_type": "code",
   "execution_count": null,
   "metadata": {},
   "outputs": [],
   "source": [
    "!docker build -t graphql-app ."
   ]
  },
  {
   "cell_type": "markdown",
   "metadata": {},
   "source": [
    "### Ejecuta el contenedor Docker:\n",
    "Ejecuta el siguiente comando para iniciar tu aplicación GraphQL dentro de un contenedor. La opción `-d` lo ejecuta en segundo plano, y `-p 8000:8000` mapea el puerto 8000 del contenedor al puerto 8000 de tu máquina local."
   ]
  },
  {
   "cell_type": "code",
   "execution_count": null,
   "metadata": {},
   "outputs": [],
   "source": [
    "docker run -d --name graphql-server -p 8000:8000 graphql-app\n",
    "# Para detener el servidor Docker más tarde:\n",
    "docker stop graphql-server\n",
    "docker rm graphql-server"
   ]
  },
  {
   "cell_type": "markdown",
   "metadata": {},
   "source": [
    "## 3. Interactuando con tu API GraphQL\n",
    "\n",
    "Ahora que tu servidor GraphQL está corriendo en Docker, puedes interactuar con él."
   ]
  },
  {
   "cell_type": "markdown",
   "metadata": {},
   "source": [
    "### A. Usando GraphiQL (Interfaz interactiva en el navegador)\n",
    "\n",
    "1.  Abre tu navegador web y ve a `http://localhost:8000/graphql`.\n"
   ]
  },
  {
   "cell_type": "markdown",
   "metadata": {},
   "source": [
    "### B. Usando un Cliente Python (`requests`)\n",
    "\n",
    "Puedes usar el mismo script `client.py` que creamos antes, ya que el endpoint (URL) sigue siendo el mismo (`http://localhost:8000/graphql`)."
   ]
  },
  {
   "cell_type": "code",
   "execution_count": null,
   "metadata": {},
   "outputs": [],
   "source": [
    "%%writefile client.py\n",
    "import requests\n",
    "import json\n",
    "from typing import Optional\n",
    "\n",
    "graphql_endpoint = \"http://localhost:8000/graphql\"\n",
    "\n",
    "def execute_graphql_query(query: str, variables: Optional[dict] = None) -> dict:\n",
    "    \"\"\"Función para ejecutar consultas/mutaciones GraphQL.\"\"\"\n",
    "    payload = {\"query\": query}\n",
    "    if variables:\n",
    "        payload[\"variables\"] = variables\n",
    "\n",
    "    try:\n",
    "        response = requests.post(graphql_endpoint, json=payload)\n",
    "        response.raise_for_status() # Lanza un error para códigos 4xx/5xx\n",
    "        return response.json()\n",
    "    except requests.exceptions.ConnectionError:\n",
    "        print(\"Error: No se pudo conectar con el servidor. Asegúrate de que el contenedor Docker esté corriendo.\")\n",
    "        return {\"errors\": [{\"message\": \"Connection error\"}]}\n",
    "    except requests.exceptions.HTTPError as http_err:\n",
    "        print(f\"Error HTTP: {http_err} - {response.text}\")\n",
    "        return {\"errors\": [{\"message\": f\"HTTP error: {http_err}\"}]}\n",
    "    except Exception as err:\n",
    "        print(f\"Ocurrió otro error: {err}\")\n",
    "        return {\"errors\": [{\"message\": f\"An unexpected error occurred: {err}\"}]}\n",
    "\n",
    "\n",
    "print(\"--- Cliente Python para API GraphQL ---\")\n",
    "\n",
    "# --- Query de ejemplo: obtener todos los libros, solo título y autor ---\n",
    "print(\"\\n--- Consultando todos los libros (solo título y autor) ---\")\n",
    "all_books_query = \"\"\"\n",
    "query GetBooks {\n",
    "  books {\n",
    "    title\n",
    "    author\n",
    "  }\n",
    "}\n",
    "\"\"\"\n",
    "result = execute_graphql_query(all_books_query)\n",
    "if \"data\" in result:\n",
    "    for book in result[\"data\"][\"books\"]:\n",
    "        print(f\"- {book['title']} por {book['author']}\")\n",
    "elif \"errors\" in result:\n",
    "    print(f\"Errores: {result['errors']}\")\n",
    "\n",
    "# --- Mutation de ejemplo: crear un nuevo libro ---\n",
    "print(\"\\n--- Creando un nuevo libro ---\")\n",
    "create_book_mutation = \"\"\"\n",
    "mutation AddBook($title: String!, $author: String!, $year: Int) {\n",
    "  createBook(data: {title: $title, author: $author, year: $year}) {\n",
    "    id\n",
    "    title\n",
    "    author\n",
    "    year\n",
    "  }\n",
    "}\n",
    "\"\"\"\n",
    "variables = {\n",
    "    \"title\": \"La sombra del viento\",\n",
    "    \"author\": \"Carlos Ruiz Zafón\",\n",
    "    \"year\": 2001\n",
    "}\n",
    "result = execute_graphql_query(create_book_mutation, variables)\n",
    "if \"data\" in result:\n",
    "    new_book = result[\"data\"][\"createBook\"]\n",
    "    print(f\"Libro creado: ID={new_book['id']}, Título='{new_book['title']}'\")\n",
    "elif \"errors\" in result:\n",
    "    print(f\"Errores: {result['errors']}\")\n",
    "\n",
    "# --- Query de verificación: obtener todos los libros de nuevo para ver el nuevo ---\n",
    "print(\"\\n--- Verificando todos los libros después de la creación ---\")\n",
    "result = execute_graphql_query(all_books_query)\n",
    "if \"data\" in result:\n",
    "    for book in result[\"data\"][\"books\"]:\n",
    "        print(f\"- {book['title']} por {book['author']}\")\n",
    "elif \"errors\" in result:\n",
    "    print(f\"Errores: {result['errors']}\")\n",
    "\n",
    "# --- Mutation de ejemplo: eliminar un libro ---\n",
    "print(\"\\n--- Eliminando un libro (por ejemplo, el b1) ---\")\n",
    "delete_book_mutation = \"\"\"\n",
    "mutation RemoveBook($id: String!) {\n",
    "  deleteBook(id: $id) {\n",
    "    id\n",
    "    title\n",
    "  }\n",
    "}\n",
    "\"\"\"\n",
    "variables = {\"id\": \"b1\"}\n",
    "result = execute_graphql_query(delete_book_mutation, variables)\n",
    "if \"data\" in result and result[\"data\"][\"deleteBook\"]:\n",
    "    deleted_book = result[\"data\"][\"deleteBook\"]\n",
    "    print(f\"Libro eliminado: ID={deleted_book['id']}, Título='{deleted_book['title']}'\")\n",
    "elif \"errors\" in result:\n",
    "    print(f\"Errores: {result['errors']}\")\n",
    "else:\n",
    "    print(\"No se encontró el libro para eliminar o ya fue eliminado.\")\n",
    "\n",
    "\n",
    "print(\"\\n--- Fin del ejemplo de cliente GraphQL ---\")"
   ]
  },
  {
   "cell_type": "markdown",
   "metadata": {},
   "source": [
    "2.  **Ejecuta el script del cliente:**\n",
    "    Asegúrate de que el contenedor Docker `graphql-server` esté ejecutándose en segundo plano (`!docker run -d ...`). Luego, en una terminal, navega a tu directorio del proyecto (`python-graphql-docker-tutorial`) y ejecuta:"
   ]
  },
  {
   "cell_type": "code",
   "execution_count": null,
   "metadata": {},
   "outputs": [],
   "source": [
    "poetry run python client.py"
   ]
  },
  {
   "cell_type": "markdown",
   "metadata": {},
   "source": [
    "¡Felicidades! Has configurado y ejecutado una aplicación GraphQL completa con FastAPI, Strawberry, Poetry y Docker. Este es un setup robusto para cualquier API de MLOps."
   ]
  }
 ],
 "metadata": {
  "kernelspec": {
   "display_name": "Python 3 (ipykernel)",
   "language": "python",
   "name": "python3"
  },
  "language_info": {
   "codemirror_mode": {
    "name": "ipython",
    "version": 3
   },
   "file_extension": ".py",
   "mimetype": "text/x-python",
   "name": "python",
   "nbconvert_exporter": "python",
   "pygments_lexer": "ipython3",
   "version": "3.10.12"
  }
 },
 "nbformat": 4,
 "nbformat_minor": 5
}
